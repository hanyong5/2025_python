{
 "cells": [
  {
   "cell_type": "code",
   "execution_count": 13,
   "id": "8e654d45-4ecd-4886-914b-9250bddcdafc",
   "metadata": {},
   "outputs": [
    {
     "name": "stdout",
     "output_type": "stream",
     "text": [
      "0. 1500\n",
      "1. 3200\n",
      "2. 2500\n",
      "3. 4000\n",
      "4. 5500\n",
      "[1575.0, 3360.0, 2625.0, 4200.0, 5775.0]\n"
     ]
    }
   ],
   "source": [
    "prices = [1500,3200,2500,4000,5500]\n",
    "\n",
    "for i in range(len(prices)):\n",
    "    print(f'{i}. {prices[i]}')\n",
    "    prices[i] = prices[i] + prices[i]*0.05\n",
    "\n",
    "print(prices)\n",
    "    \n"
   ]
  },
  {
   "cell_type": "code",
   "execution_count": 3,
   "id": "cbb81fff-8f5c-4ab8-9f55-476c08ec2816",
   "metadata": {},
   "outputs": [
    {
     "name": "stdout",
     "output_type": "stream",
     "text": [
      "[3, 6, 9]\n"
     ]
    }
   ],
   "source": [
    "cubes = [x for x in range(1,10)]\n",
    "cubes1 = [x for x in range(1,10) if x%3==0]\n",
    "\n",
    "print(cubes1)\n",
    "\n"
   ]
  },
  {
   "cell_type": "code",
   "execution_count": 27,
   "id": "fcfe7bd5-f6ae-491d-86a5-e23367f186af",
   "metadata": {},
   "outputs": [
    {
     "name": "stdout",
     "output_type": "stream",
     "text": [
      "홀수\n",
      "짝수\n",
      "홀수\n",
      "짝수\n",
      "홀수\n",
      "짝수\n",
      "홀수\n",
      "짝수\n",
      "홀수\n",
      "짝수\n"
     ]
    }
   ],
   "source": [
    "for i in range(1,11):\n",
    "    # v1(true) if 조건문 v2(false)\n",
    "    # 값1(t) if 조건 값2(f)\n",
    "    print(\"짝수\" if i%2==0 else '홀수')"
   ]
  },
  {
   "cell_type": "code",
   "execution_count": null,
   "id": "ffbfd816-1a78-410c-81d2-e5e7ea0f8123",
   "metadata": {},
   "outputs": [
    {
     "name": "stdout",
     "output_type": "stream",
     "text": [
      "['홀수', '짝수', '홀수', '짝수', '홀수', '짝수', '홀수', '짝수', '홀수', '짝수', '홀수', '짝수', '홀수', '짝수', '홀수', '짝수', '홀수', '짝수', '홀수', '짝수']\n"
     ]
    }
   ],
   "source": [
    "result = [\"짝수\" if i%2==0 else \"홀수\" for i in range(1,21)]\n",
    "print(result)"
   ]
  },
  {
   "cell_type": "code",
   "execution_count": 37,
   "id": "e9152476-3d22-469a-88c0-83dcfbca40b1",
   "metadata": {},
   "outputs": [
    {
     "name": "stdout",
     "output_type": "stream",
     "text": [
      "['합격', '합격', '불합격', '합격', '불합격']\n"
     ]
    }
   ],
   "source": [
    "score = [71,80,60,90,65]\n",
    "result = [\"합격\" if s>=70 else \"불합격\" for s in score]\n",
    "print(result)"
   ]
  },
  {
   "cell_type": "code",
   "execution_count": 1,
   "id": "5c68d215-3365-44f6-9603-aa081d15d3de",
   "metadata": {},
   "outputs": [
    {
     "name": "stdout",
     "output_type": "stream",
     "text": [
      "['a', 'b', 'c', 'd']\n"
     ]
    }
   ],
   "source": [
    "let = ['a','b','c','d','e']\n",
    "v = let[1:2]\n",
    "last = let[0:-1]\n",
    "print(last)"
   ]
  },
  {
   "cell_type": "code",
   "execution_count": null,
   "id": "f382e116",
   "metadata": {},
   "outputs": [
    {
     "name": "stdout",
     "output_type": "stream",
     "text": [
      "[0, 1, 2, 3, 4]\n",
      "[7, 8, 9]\n",
      "[1, 2, 3, 4, 5]\n",
      "[0, 2, 4, 6, 8]\n",
      "[9, 8, 7, 6, 5, 4, 3, 2, 1, 0]\n",
      "[3, 4, 5, 6]\n",
      "[7, 8, 9]\n",
      "[2, 3, 4, 5, 6, 7, 8, 9]\n",
      "[0, 2, 4]\n",
      "[0, 3, 6, 9]\n",
      "[5, 6, 7, 8]\n",
      "[6, 7, 8, 9]\n",
      "[3, 4, 5, 6, 7]\n",
      "[1, 2, 3, 4, 5, 6, 7, 8, 9]\n"
     ]
    }
   ],
   "source": [
    "a = [0, 1, 2, 3, 4, 5, 6, 7, 8, 9]\n",
    "# 1. 리스트의 첫 5개 요소만 출력 [0, 1, 2, 3, 4]\n",
    "print(a[:5]) \n",
    "\n",
    "# 2. 리스트의 마지막 3개 요소 출력 [7, 8, 9]\n",
    "# print(a[0:-3])\n",
    "print(a[-3:])\n",
    "\n",
    "# 3. 리스트에서 2번째부터 6번째까지 출력\n",
    "print(a[1:6])\n",
    "\n",
    "# 4. 리스트에서 짝수 인덱스만 출력 [::2]\n",
    "print(a[::2])\n",
    "\n",
    "# 5. 리스트를 거꾸로 출력[::-1]\n",
    "print(a[::-1])\n",
    "\n",
    "# 6. 리스트의 중간 4개 요소만 출력 [3, 4, 5, 6]\n",
    "print(a[3:7])\n",
    "\n",
    "# 7. 리스트에서 앞의 7개를 제외하고 출력 [7, 8, 9]\n",
    "print(a[7:])\n",
    "\n",
    "# 8. 리스트에서 3번째부터 끝까지 출력\n",
    "print(a[2:])\n",
    "\n",
    "# 9. 리스트에서 첫 5개 중 홀수 인덱스만 출력\n",
    "print(a[:5:2])\n",
    "\n",
    "# 10. 리스트를 3칸씩 건너뛰며 출력\n",
    "print(a[::3])\n",
    "\n",
    "# 11. 리스트에서 -5부터 -2까지 출력\n",
    "print(a[-5:-2+1])\n",
    "\n",
    "\n",
    "# 12. 리스트의 길이를 이용해 끝에서 4번째 요소부터 출력\n",
    "print(a[len(a)-4:])\n",
    "\n",
    "\n",
    "b = [1, 2, 3, 4, 5, 6, 7, 8, 9]\n",
    "# 13.리스트에서 중앙의 요소를 기준으로 양쪽 2개씩 출력\n",
    "mean = len(b) // 2\n",
    "result = b[mean-2:mean+3]\n",
    "\n",
    "print(result)\n",
    "\n",
    "# 14. 리스트를 복사해서 새로운 리스트로 만들기\n",
    "c=b[:]\n",
    "print(c)\n"
   ]
  },
  {
   "cell_type": "code",
   "execution_count": 49,
   "id": "ff8a8d1f",
   "metadata": {},
   "outputs": [
    {
     "name": "stdout",
     "output_type": "stream",
     "text": [
      "['파이썬', '자바', 'c++', 'c']\n"
     ]
    }
   ],
   "source": [
    "pl= [\"파이썬\",\"자바\"]\n",
    "tl = [\"c++\",\"c\"]\n",
    "pl.extend(tl)\n",
    "print(pl)"
   ]
  },
  {
   "cell_type": "code",
   "execution_count": 43,
   "id": "3c0705f7-2b8c-4202-8d25-ddb8faeef56a",
   "metadata": {},
   "outputs": [
    {
     "name": "stdout",
     "output_type": "stream",
     "text": [
      "['파이썬', 'c', 'vue']\n"
     ]
    }
   ],
   "source": [
    "pl= [\"파이썬\",\"자바\"]\n",
    "pl.insert(1,\"c\")\n",
    "pl.pop()\n",
    "pl.append(\"vue\")\n",
    "print(pl)"
   ]
  },
  {
   "cell_type": "code",
   "execution_count": null,
   "id": "815d305c-1a49-415a-b33b-cf741b61f57b",
   "metadata": {},
   "outputs": [
    {
     "name": "stdout",
     "output_type": "stream",
     "text": [
      "자바\n"
     ]
    }
   ],
   "source": [
    "pl= [\"파이썬\",\"자바\",\"c\",\"c++\"]\n",
    "result = pl.pop()\n",
    "print(result)"
   ]
  },
  {
   "cell_type": "code",
   "execution_count": 51,
   "id": "d7944730",
   "metadata": {},
   "outputs": [
    {
     "name": "stdout",
     "output_type": "stream",
     "text": [
      "['자바', 'c']\n"
     ]
    }
   ],
   "source": [
    "pl= [\"파이썬\",\"자바\",\"c\",\"c++\"]\n",
    "del pl[3],pl[0]\n",
    "print(pl)"
   ]
  },
  {
   "cell_type": "code",
   "execution_count": 56,
   "id": "a71f33f5",
   "metadata": {},
   "outputs": [
    {
     "name": "stdout",
     "output_type": "stream",
     "text": [
      "[]\n"
     ]
    }
   ],
   "source": [
    "pl= [\"파이썬\",\"자바\",\"c\",\"c++\",\"c\"]\n",
    "pl.remove(\"c\") \n",
    "pl.remove(\"c\") \n",
    "\n",
    "pl.clear()\n",
    "print(pl)"
   ]
  },
  {
   "cell_type": "code",
   "execution_count": null,
   "id": "42bc02d4",
   "metadata": {},
   "outputs": [
    {
     "name": "stdout",
     "output_type": "stream",
     "text": [
      "['한국', '일본', '영국', '미국']\n",
      "3\n",
      "없어요\n"
     ]
    }
   ],
   "source": [
    "n = [\"한국\",\"미국\",\"영국\",\"일본\"]\n",
    "n.reverse() #['일본', '영국', '미국', '한국']\n",
    "n.sort() #['미국', '영국', '일본', '한국'] 오름차순\n",
    "n.sort(reverse=True) #['한국', '일본', '영국', '미국'] 내림차순\n",
    "print(n)\n",
    "\n",
    "print(n.index(\"미국\"))\n",
    "\n",
    "if \"중국\" in n:\n",
    "    print(\"있어요\")\n",
    "else:\n",
    "    print(\"없어요\")"
   ]
  },
  {
   "cell_type": "code",
   "execution_count": null,
   "id": "e752335c",
   "metadata": {},
   "outputs": [],
   "source": [
    "# month = [\"1월\",\"2월\",\"3월\",\"4월\",\"5월\",\"6월\",\"7월\",\"8월\",\"9월\",\"10월\",\"11월\",\"12월\"]\n",
    "\n",
    "month1 = [f\"{x}월\" for x in range(1,13)]\n",
    "\n",
    "# print(month)\n",
    "# month1 = month[:]\n",
    "\n",
    "while True:\n",
    "    answer = input(\"월입력 :\")\n",
    "\n",
    "    if answer == \"종료\":\n",
    "        break\n",
    "\n",
    "    if answer in month1:\n",
    "        print(month1.index(answer)+1)\n",
    "    else:\n",
    "        print(\"해당월이 없습니다.\")\n",
    "\n"
   ]
  },
  {
   "cell_type": "code",
   "execution_count": null,
   "id": "b6da66a7",
   "metadata": {},
   "outputs": [],
   "source": [
    "#십이지신은 땅을 지키는 열두마리의 동물입니다. \n",
    "#한자를 입력하면 한글 동물이름을 출력하는 프로그램 만들기\n",
    "# 예) [묘] 입력 -> [토끼] 나오게"
   ]
  },
  {
   "cell_type": "code",
   "execution_count": null,
   "id": "2b0fb069",
   "metadata": {},
   "outputs": [],
   "source": []
  },
  {
   "cell_type": "code",
   "execution_count": null,
   "id": "298d7aea",
   "metadata": {},
   "outputs": [],
   "source": []
  },
  {
   "cell_type": "code",
   "execution_count": null,
   "id": "93e649c1",
   "metadata": {},
   "outputs": [],
   "source": []
  },
  {
   "cell_type": "code",
   "execution_count": null,
   "id": "090e51c5",
   "metadata": {},
   "outputs": [],
   "source": []
  },
  {
   "cell_type": "code",
   "execution_count": null,
   "id": "07ce86cb",
   "metadata": {},
   "outputs": [],
   "source": []
  },
  {
   "cell_type": "code",
   "execution_count": null,
   "id": "32e3bacb",
   "metadata": {},
   "outputs": [],
   "source": []
  },
  {
   "cell_type": "code",
   "execution_count": null,
   "id": "04b166a9",
   "metadata": {},
   "outputs": [],
   "source": []
  },
  {
   "cell_type": "code",
   "execution_count": null,
   "id": "827cd577",
   "metadata": {},
   "outputs": [],
   "source": []
  },
  {
   "cell_type": "code",
   "execution_count": null,
   "id": "8b4f32ad",
   "metadata": {},
   "outputs": [],
   "source": []
  },
  {
   "cell_type": "code",
   "execution_count": null,
   "id": "0b412d73",
   "metadata": {},
   "outputs": [],
   "source": []
  },
  {
   "cell_type": "code",
   "execution_count": null,
   "id": "10ee5631",
   "metadata": {},
   "outputs": [],
   "source": []
  }
 ],
 "metadata": {
  "kernelspec": {
   "display_name": "Python [conda env:base] *",
   "language": "python",
   "name": "conda-base-py"
  },
  "language_info": {
   "codemirror_mode": {
    "name": "ipython",
    "version": 3
   },
   "file_extension": ".py",
   "mimetype": "text/x-python",
   "name": "python",
   "nbconvert_exporter": "python",
   "pygments_lexer": "ipython3",
   "version": "3.12.7"
  }
 },
 "nbformat": 4,
 "nbformat_minor": 5
}
