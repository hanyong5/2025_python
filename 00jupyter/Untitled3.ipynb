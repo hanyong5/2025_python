{
 "cells": [
  {
   "cell_type": "code",
   "execution_count": null,
   "id": "637c5294-f848-4d46-a278-c80cb3341306",
   "metadata": {},
   "outputs": [],
   "source": []
  }
 ],
 "metadata": {
  "kernelspec": {
   "display_name": "",
   "name": ""
  },
  "language_info": {
   "name": ""
  }
 },
 "nbformat": 4,
 "nbformat_minor": 5
}
