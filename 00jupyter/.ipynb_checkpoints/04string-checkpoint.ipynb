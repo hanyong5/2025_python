{
 "cells": [
  {
   "cell_type": "markdown",
   "id": "d0f99b9f",
   "metadata": {},
   "source": [
    "### String"
   ]
  },
  {
   "cell_type": "code",
   "execution_count": null,
   "id": "1807e9e0",
   "metadata": {},
   "outputs": [],
   "source": [
    "s = \"\"\"\n",
    "이름:홍길동\n",
    "\n",
    "나이:30\n",
    "\"\"\"\n",
    "\n",
    "html = '''\n",
    "<html>\n",
    "    <body>\n",
    "        \n",
    "    </body>\n",
    "</html>\n",
    "'''\n",
    "print(html*3)\n",
    "\n",
    "ㅠ"
   ]
  },
  {
   "cell_type": "code",
   "execution_count": 20,
   "id": "b2129222",
   "metadata": {},
   "outputs": [
    {
     "name": "stdout",
     "output_type": "stream",
     "text": [
      "i/you /youa/youm/you /youb/youo/youy/you한:성:용*"
     ]
    }
   ],
   "source": [
    "s = 'i am boy'\n",
    "# print(len(s))\n",
    "b = \"you\"\n",
    "\n",
    "for i in range(len(s)):\n",
    "    print(s[i],b,end='',sep=\"/\")\n",
    "\n",
    "\n",
    "\n",
    "a = \"한\"\n",
    "b = \"성\"\n",
    "c= \"용\"\n",
    "print(a,b,c,sep=\":\",end=\"*\")"
   ]
  },
  {
   "cell_type": "code",
   "execution_count": 28,
   "id": "f4910f47",
   "metadata": {},
   "outputs": [
    {
     "name": "stdout",
     "output_type": "stream",
     "text": [
      "edcba\n"
     ]
    }
   ],
   "source": [
    "s = \"abcde\"\n",
    "# for i in range(len(s)-1,-1,-1):\n",
    "#      print(s[i],end=\" \")\n",
    "\n",
    "print(s[::-1])\n"
   ]
  },
  {
   "cell_type": "code",
   "execution_count": 29,
   "id": "5623e216",
   "metadata": {},
   "outputs": [
    {
     "name": "stdout",
     "output_type": "stream",
     "text": [
      "포함\n"
     ]
    }
   ],
   "source": [
    "s = \"i am a boy\"\n",
    "if s.find(\"boy\") != -1:\n",
    "    print('포함')\n",
    "else:\n",
    "    print('포함 안됨')"
   ]
  },
  {
   "cell_type": "code",
   "execution_count": 38,
   "id": "de9d5300",
   "metadata": {},
   "outputs": [
    {
     "name": "stdout",
     "output_type": "stream",
     "text": [
      "한성용\n",
      "한성용\n",
      "2\n"
     ]
    }
   ],
   "source": [
    "a = [\"한성용\",\"20\"]\n",
    "b ={\"age\":20,\"name\":\"한성용\"}\n",
    "c = {\"title\":[1,2,3,4]}\n",
    "\n",
    "print(a[0])\n",
    "print(b[\"name\"])\n",
    "print(c[\"title\"][1])"
   ]
  },
  {
   "cell_type": "code",
   "execution_count": 2,
   "id": "932b711f",
   "metadata": {},
   "outputs": [
    {
     "name": "stdout",
     "output_type": "stream",
     "text": [
      "{'아메리카노': 3000, '라떼': 3000}\n",
      "{'아메리카노': 5000, '라떼': 3000}\n"
     ]
    }
   ],
   "source": [
    "p={}\n",
    "p[\"아메리카노\"]= 3000\n",
    "p[\"라떼\"] =3000\n",
    "\n",
    "print(p)\n",
    "p[\"아메리카노\"]= 5000\n",
    "print(p)"
   ]
  },
  {
   "cell_type": "code",
   "execution_count": 55,
   "id": "2abf81b5",
   "metadata": {},
   "outputs": [
    {
     "name": "stdout",
     "output_type": "stream",
     "text": [
      "아메리카노❤(●'◡'●)5000, 라떼❤(●'◡'●)3000, "
     ]
    }
   ],
   "source": [
    "# for key in p:\n",
    "#     print(key,p[key],sep=\":\",end=\", \")\n",
    "\n",
    "\n",
    "for key,value in p.items():\n",
    "    print(key,value,sep=\"❤(●'◡'●)\",end=\", \")\n",
    "    "
   ]
  },
  {
   "cell_type": "code",
   "execution_count": 56,
   "id": "4173c17f",
   "metadata": {},
   "outputs": [
    {
     "name": "stdout",
     "output_type": "stream",
     "text": [
      "한국의 수도는 서울입니다.\n"
     ]
    }
   ],
   "source": [
    "city = {'한국':'서울','미국':'워싱턴','일본':'도쿄'}\n",
    "\n",
    "nation = input('국가이름 :')\n",
    "\n",
    "if nation in city:\n",
    "    print(f'{nation}의 수도는 {city[nation]}입니다.')\n",
    "else:\n",
    "    print(f'{nation}은 등록되어 있지 않습니다.')   \n"
   ]
  },
  {
   "cell_type": "code",
   "execution_count": 12,
   "id": "e22f5e37",
   "metadata": {},
   "outputs": [
    {
     "name": "stdout",
     "output_type": "stream",
     "text": [
      "{'아메리카노': 5000, '라떼': 3000}\n",
      "아메리카노:5000\n",
      "라떼:3000\n"
     ]
    }
   ],
   "source": [
    "print(p)\n",
    "# for key in p:\n",
    "#     print(key,p[key],sep=\":\",end=\",\")\n",
    "\n",
    "\n",
    "for key,value in p.items():\n",
    "    print(key,value,sep=\":\")"
   ]
  },
  {
   "cell_type": "code",
   "execution_count": 20,
   "id": "c4417c06",
   "metadata": {},
   "outputs": [
    {
     "data": {
      "text/plain": [
       "dict_values([5000, 3000])"
      ]
     },
     "execution_count": 20,
     "metadata": {},
     "output_type": "execute_result"
    }
   ],
   "source": [
    "p.keys()\n",
    "p.values()\n"
   ]
  },
  {
   "cell_type": "code",
   "execution_count": null,
   "id": "c7c4d7be",
   "metadata": {},
   "outputs": [
    {
     "name": "stdout",
     "output_type": "stream",
     "text": [
      "총금액은 (3000,)원 입니다.\n"
     ]
    }
   ],
   "source": [
    "price = {'아메리카노': 1500, '라떼': 3000,'녹차':3000}\n",
    "\n",
    "sum = 0\n",
    "while True:\n",
    "    s = input(\"음료종류 입력 또는 종료 :\")\n",
    "\n",
    "    if s == '종료':\n",
    "        break\n",
    "    elif s in price:\n",
    "        n = int(input(f'{s}의 주문수 :'))\n",
    "        sum = sum + price[s] * n\n",
    "    else:\n",
    "        print(f'{s}는 메뉴에 없네요.')\n",
    "\n",
    "print(f'총금액은 {sum}원 입니다.')"
   ]
  },
  {
   "cell_type": "code",
   "execution_count": 23,
   "id": "ebb7ab47",
   "metadata": {},
   "outputs": [
    {
     "name": "stdout",
     "output_type": "stream",
     "text": [
      "틀림\n",
      "맞습니다.\n",
      "틀림\n"
     ]
    }
   ],
   "source": [
    "words = {'사자':'lion','호랑이':'tiger','토끼':'rabbit'}\n",
    "\n",
    "for key,value in words.items():\n",
    "    ans = input(f\"{key} : 영어 이름은?\")\n",
    "    if ans == value:\n",
    "        print(\"맞습니다.\")\n",
    "    else:\n",
    "        print(\"틀림\")\n"
   ]
  },
  {
   "cell_type": "code",
   "execution_count": 24,
   "id": "19dda852",
   "metadata": {},
   "outputs": [
    {
     "name": "stdout",
     "output_type": "stream",
     "text": [
      "Defaulting to user installation because normal site-packages is not writeable\n",
      "Collecting deep-translator\n",
      "  Using cached deep_translator-1.11.4-py3-none-any.whl.metadata (30 kB)\n",
      "Collecting beautifulsoup4<5.0.0,>=4.9.1 (from deep-translator)\n",
      "  Using cached beautifulsoup4-4.13.4-py3-none-any.whl.metadata (3.8 kB)\n",
      "Requirement already satisfied: requests<3.0.0,>=2.23.0 in c:\\users\\admin\\appdata\\local\\packages\\pythonsoftwarefoundation.python.3.13_qbz5n2kfra8p0\\localcache\\local-packages\\python313\\site-packages (from deep-translator) (2.32.3)\n",
      "Collecting soupsieve>1.2 (from beautifulsoup4<5.0.0,>=4.9.1->deep-translator)\n",
      "  Using cached soupsieve-2.7-py3-none-any.whl.metadata (4.6 kB)\n",
      "Requirement already satisfied: typing-extensions>=4.0.0 in c:\\users\\admin\\appdata\\local\\packages\\pythonsoftwarefoundation.python.3.13_qbz5n2kfra8p0\\localcache\\local-packages\\python313\\site-packages (from beautifulsoup4<5.0.0,>=4.9.1->deep-translator) (4.13.2)\n",
      "Requirement already satisfied: charset-normalizer<4,>=2 in c:\\users\\admin\\appdata\\local\\packages\\pythonsoftwarefoundation.python.3.13_qbz5n2kfra8p0\\localcache\\local-packages\\python313\\site-packages (from requests<3.0.0,>=2.23.0->deep-translator) (3.4.1)\n",
      "Requirement already satisfied: idna<4,>=2.5 in c:\\users\\admin\\appdata\\local\\packages\\pythonsoftwarefoundation.python.3.13_qbz5n2kfra8p0\\localcache\\local-packages\\python313\\site-packages (from requests<3.0.0,>=2.23.0->deep-translator) (3.10)\n",
      "Requirement already satisfied: urllib3<3,>=1.21.1 in c:\\users\\admin\\appdata\\local\\packages\\pythonsoftwarefoundation.python.3.13_qbz5n2kfra8p0\\localcache\\local-packages\\python313\\site-packages (from requests<3.0.0,>=2.23.0->deep-translator) (2.4.0)\n",
      "Requirement already satisfied: certifi>=2017.4.17 in c:\\users\\admin\\appdata\\local\\packages\\pythonsoftwarefoundation.python.3.13_qbz5n2kfra8p0\\localcache\\local-packages\\python313\\site-packages (from requests<3.0.0,>=2.23.0->deep-translator) (2025.4.26)\n",
      "Using cached deep_translator-1.11.4-py3-none-any.whl (42 kB)\n",
      "Using cached beautifulsoup4-4.13.4-py3-none-any.whl (187 kB)\n",
      "Using cached soupsieve-2.7-py3-none-any.whl (36 kB)\n",
      "Installing collected packages: soupsieve, beautifulsoup4, deep-translator\n",
      "Successfully installed beautifulsoup4-4.13.4 deep-translator-1.11.4 soupsieve-2.7\n"
     ]
    },
    {
     "name": "stderr",
     "output_type": "stream",
     "text": [
      "\n",
      "[notice] A new release of pip is available: 25.0.1 -> 25.1.1\n",
      "[notice] To update, run: C:\\Users\\Admin\\AppData\\Local\\Microsoft\\WindowsApps\\PythonSoftwareFoundation.Python.3.13_qbz5n2kfra8p0\\python.exe -m pip install --upgrade pip\n"
     ]
    }
   ],
   "source": [
    "!pip install deep-translator"
   ]
  },
  {
   "cell_type": "code",
   "execution_count": null,
   "id": "017ca307",
   "metadata": {},
   "outputs": [
    {
     "name": "stdout",
     "output_type": "stream",
     "text": [
      "단어등록\n",
      "사자 단어가 등록됨\n",
      "퀴즈시작\n",
      "ok\n",
      "종료\n"
     ]
    }
   ],
   "source": [
    "from deep_translator import GoogleTranslator\n",
    "\n",
    "# 저장소\n",
    "words = {}\n",
    "\n",
    "# 함수\n",
    "def regist():\n",
    "    q = input(\"등록할 단어 : \")\n",
    "\n",
    "    if q in words:\n",
    "        print(f'{q} 는 등록단어')\n",
    "    else:\n",
    "        words[q] = GoogleTranslator(source='auto',target='en').translate(q)\n",
    "        print(f'{q} 단어가 등록됨')\n",
    "\n",
    "def quiz():\n",
    "    for key,value in words.items():\n",
    "        ans = input(key + \"영어단어작성\")\n",
    "        if ans == value:\n",
    "            print(\"정답입니다\")\n",
    "        else:\n",
    "            print(\"oh!!!! no\")\n",
    "\n",
    "\n",
    "\n",
    "\n",
    "# 실행\n",
    "while True:\n",
    "    select = int(input(\"1.등록,2.퀴즈,3.종료 : \"))\n",
    "    if select == 3:\n",
    "        print(\"종료\")\n",
    "        break\n",
    "\n",
    "    elif select == 1:\n",
    "        print(\"단어등록\")\n",
    "        regist()\n",
    "    \n",
    "    elif select == 2:\n",
    "        print(\"퀴즈시작\")\n",
    "        quiz()\n",
    "\n",
    "    else:\n",
    "        print(\"잘못입력\")\n",
    "\n"
   ]
  },
  {
   "cell_type": "code",
   "execution_count": null,
   "id": "24d78563",
   "metadata": {},
   "outputs": [],
   "source": []
  },
  {
   "cell_type": "code",
   "execution_count": null,
   "id": "7cee837f",
   "metadata": {},
   "outputs": [],
   "source": []
  },
  {
   "cell_type": "code",
   "execution_count": null,
   "id": "45c0b93d",
   "metadata": {},
   "outputs": [],
   "source": []
  },
  {
   "cell_type": "code",
   "execution_count": null,
   "id": "c5762745",
   "metadata": {},
   "outputs": [],
   "source": []
  },
  {
   "cell_type": "code",
   "execution_count": null,
   "id": "9ddffce7",
   "metadata": {},
   "outputs": [],
   "source": []
  },
  {
   "cell_type": "code",
   "execution_count": null,
   "id": "fd2c8337",
   "metadata": {},
   "outputs": [],
   "source": []
  }
 ],
 "metadata": {
  "kernelspec": {
   "display_name": "Python 3",
   "language": "python",
   "name": "python3"
  },
  "language_info": {
   "codemirror_mode": {
    "name": "ipython",
    "version": 3
   },
   "file_extension": ".py",
   "mimetype": "text/x-python",
   "name": "python",
   "nbconvert_exporter": "python",
   "pygments_lexer": "ipython3",
   "version": "3.13.3"
  }
 },
 "nbformat": 4,
 "nbformat_minor": 5
}
