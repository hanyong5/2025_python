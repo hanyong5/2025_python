{
 "cells": [
  {
   "cell_type": "code",
   "execution_count": 27,
   "id": "4916bdf7-c3d8-47d3-aec6-964cb07641fa",
   "metadata": {},
   "outputs": [
    {
     "name": "stdout",
     "output_type": "stream",
     "text": [
      "1. 5\n",
      "5. 10\n"
     ]
    }
   ],
   "source": [
    "import random\n",
    "num = 1500\n",
    "\n",
    "for i in range(1,6,4):\n",
    "    print(f'{i}. {random.randint(1,10)}')"
   ]
  },
  {
   "cell_type": "code",
   "execution_count": 31,
   "id": "172f2ff4-1540-47d2-9036-98012645a219",
   "metadata": {},
   "outputs": [
    {
     "name": "stdout",
     "output_type": "stream",
     "text": [
      "안녕\n",
      "안녕\n",
      "안녕\n"
     ]
    }
   ],
   "source": [
    "for i in 1,2,3: #range(0,3)\n",
    "    print(\"안녕\")"
   ]
  },
  {
   "cell_type": "code",
   "execution_count": 35,
   "id": "d93a5983-80cd-40be-ad7f-a615e65763c8",
   "metadata": {},
   "outputs": [
    {
     "name": "stdout",
     "output_type": "stream",
     "text": [
      "홍길동\n",
      "홍길동\n",
      "홍길동\n"
     ]
    }
   ],
   "source": [
    "for i in range(0,3):\n",
    "    print(\"홍길동\")"
   ]
  },
  {
   "cell_type": "code",
   "execution_count": 39,
   "id": "0f979336-26e1-409f-8df0-ba1d8367a87f",
   "metadata": {},
   "outputs": [
    {
     "name": "stdout",
     "output_type": "stream",
     "text": [
      "1\n",
      "3\n",
      "6\n",
      "10\n",
      "15\n",
      "합계 : 15\n"
     ]
    }
   ],
   "source": [
    "sum = 0\n",
    "for i in range(1,6):\n",
    "    sum += i\n",
    "    print(sum)\n",
    "print(f'합계 : {sum}')\n",
    "    "
   ]
  },
  {
   "cell_type": "code",
   "execution_count": 47,
   "id": "2a54d616-9355-48e5-a1b3-41a0d75ecb49",
   "metadata": {},
   "outputs": [
    {
     "name": "stdout",
     "output_type": "stream",
     "text": [
      "1 회 반복\n",
      "2 회 반복\n",
      "3 회 반복\n"
     ]
    }
   ],
   "source": [
    "a =1\n",
    "while a<=3:\n",
    "    print(f'{a} 회 반복')\n",
    "    a = a+1"
   ]
  },
  {
   "cell_type": "code",
   "execution_count": 49,
   "id": "84c1200f-20f3-41e9-8c5b-373ae6ce68d6",
   "metadata": {},
   "outputs": [
    {
     "name": "stdout",
     "output_type": "stream",
     "text": [
      "1\n",
      "3\n",
      "6\n",
      "10\n",
      "15\n",
      "21\n",
      "28\n",
      "36\n",
      "45\n",
      "55\n",
      "합계는 55\n"
     ]
    }
   ],
   "source": [
    "sum = 0\n",
    "a=1\n",
    "while a<=10:\n",
    "    sum += a\n",
    "    a += 1\n",
    "    print(sum)\n",
    "print(f'합계는 {sum}')"
   ]
  },
  {
   "cell_type": "code",
   "execution_count": 53,
   "id": "6bfddb8d-59f3-47dd-b800-5bc480476629",
   "metadata": {},
   "outputs": [
    {
     "name": "stdin",
     "output_type": "stream",
     "text": [
      "나이 또는 이름을 입력. 종료 홍길동\n"
     ]
    },
    {
     "name": "stdout",
     "output_type": "stream",
     "text": [
      "홍길동님! 반갑습니다.\n"
     ]
    },
    {
     "name": "stdin",
     "output_type": "stream",
     "text": [
      "나이 또는 이름을 입력. 종료 10\n"
     ]
    },
    {
     "name": "stdout",
     "output_type": "stream",
     "text": [
      "10세 이군요\n"
     ]
    },
    {
     "name": "stdin",
     "output_type": "stream",
     "text": [
      "나이 또는 이름을 입력. 종료 종료\n"
     ]
    }
   ],
   "source": [
    "while True:\n",
    "    answer = input(\"나이 또는 이름을 입력. 종료\")\n",
    "    if answer == \"종료\":\n",
    "        break;\n",
    "    elif answer.isdigit():\n",
    "        print(f'{answer}세 이군요')\n",
    "    else:\n",
    "        print(f'{answer}님! 반갑습니다.')"
   ]
  },
  {
   "cell_type": "code",
   "execution_count": 63,
   "id": "a2827740-3048-4290-8120-b7a891c80ae6",
   "metadata": {},
   "outputs": [
    {
     "name": "stdin",
     "output_type": "stream",
     "text": [
      "나이: 50\n",
      "안전시 심박수: 70\n"
     ]
    },
    {
     "name": "stdout",
     "output_type": "stream",
     "text": [
      "40% 목표심박수 : 110.0bpm\n",
      "50% 목표심박수 : 120.0bpm\n",
      "60% 목표심박수 : 130.0bpm\n",
      "70% 목표심박수 : 140.0bpm\n",
      "80% 목표심박수 : 150.0bpm\n"
     ]
    }
   ],
   "source": [
    "age = int(input(\"나이:\"))\n",
    "resting_HR = int(input(\"안전시 심박수:\"))\n",
    "\n",
    "for a in range(40,81,10):\n",
    "    intensity = a/100\n",
    "    target_HR = (((220 - age) - resting_HR)*intensity)+resting_HR\n",
    "    print(f'{a}% 목표심박수 : {target_HR}bpm')"
   ]
  },
  {
   "cell_type": "code",
   "execution_count": 5,
   "id": "61e6b929-f35c-4ea1-b3df-5b1fd13f1fc2",
   "metadata": {},
   "outputs": [
    {
     "name": "stdout",
     "output_type": "stream",
     "text": [
      "Collecting googletrans\n",
      "  Downloading googletrans-4.0.2-py3-none-any.whl.metadata (10 kB)\n",
      "Collecting httpx>=0.27.2 (from httpx[http2]>=0.27.2->googletrans)\n",
      "  Downloading httpx-0.28.1-py3-none-any.whl.metadata (7.1 kB)\n",
      "Requirement already satisfied: anyio in c:\\users\\admin\\anaconda3\\lib\\site-packages (from httpx>=0.27.2->httpx[http2]>=0.27.2->googletrans) (4.2.0)\n",
      "Requirement already satisfied: certifi in c:\\users\\admin\\anaconda3\\lib\\site-packages (from httpx>=0.27.2->httpx[http2]>=0.27.2->googletrans) (2025.1.31)\n",
      "Requirement already satisfied: httpcore==1.* in c:\\users\\admin\\anaconda3\\lib\\site-packages (from httpx>=0.27.2->httpx[http2]>=0.27.2->googletrans) (1.0.2)\n",
      "Requirement already satisfied: idna in c:\\users\\admin\\anaconda3\\lib\\site-packages (from httpx>=0.27.2->httpx[http2]>=0.27.2->googletrans) (3.7)\n",
      "Requirement already satisfied: h11<0.15,>=0.13 in c:\\users\\admin\\anaconda3\\lib\\site-packages (from httpcore==1.*->httpx>=0.27.2->httpx[http2]>=0.27.2->googletrans) (0.14.0)\n",
      "Collecting h2<5,>=3 (from httpx[http2]>=0.27.2->googletrans)\n",
      "  Downloading h2-4.2.0-py3-none-any.whl.metadata (5.1 kB)\n",
      "Collecting hyperframe<7,>=6.1 (from h2<5,>=3->httpx[http2]>=0.27.2->googletrans)\n",
      "  Downloading hyperframe-6.1.0-py3-none-any.whl.metadata (4.3 kB)\n",
      "Collecting hpack<5,>=4.1 (from h2<5,>=3->httpx[http2]>=0.27.2->googletrans)\n",
      "  Downloading hpack-4.1.0-py3-none-any.whl.metadata (4.6 kB)\n",
      "Requirement already satisfied: sniffio>=1.1 in c:\\users\\admin\\anaconda3\\lib\\site-packages (from anyio->httpx>=0.27.2->httpx[http2]>=0.27.2->googletrans) (1.3.0)\n",
      "Downloading googletrans-4.0.2-py3-none-any.whl (18 kB)\n",
      "Downloading httpx-0.28.1-py3-none-any.whl (73 kB)\n",
      "Downloading h2-4.2.0-py3-none-any.whl (60 kB)\n",
      "Downloading hpack-4.1.0-py3-none-any.whl (34 kB)\n",
      "Downloading hyperframe-6.1.0-py3-none-any.whl (13 kB)\n",
      "Installing collected packages: hyperframe, hpack, httpx, h2, googletrans\n",
      "  Attempting uninstall: httpx\n",
      "    Found existing installation: httpx 0.27.0\n",
      "    Uninstalling httpx-0.27.0:\n",
      "      Successfully uninstalled httpx-0.27.0\n",
      "Successfully installed googletrans-4.0.2 h2-4.2.0 hpack-4.1.0 httpx-0.28.1 hyperframe-6.1.0\n"
     ]
    },
    {
     "name": "stderr",
     "output_type": "stream",
     "text": [
      "ERROR: pip's dependency resolver does not currently take into account all the packages that are installed. This behaviour is the source of the following dependency conflicts.\n",
      "aext-shared 4.1.0 requires anaconda-cloud-auth>=0.7.1, which is not installed.\n",
      "aext-share-notebook-server 4.1.0 requires anaconda-cloud-auth>=0.7.1, which is not installed.\n",
      "aext-toolbox 4.1.0 requires anaconda-cloud-auth>=0.7.1, which is not installed.\n"
     ]
    },
    {
     "name": "stdout",
     "output_type": "stream",
     "text": [
      "Requirement already satisfied: gtts in c:\\users\\admin\\anaconda3\\lib\\site-packages (2.5.4)\n",
      "Requirement already satisfied: requests<3,>=2.27 in c:\\users\\admin\\anaconda3\\lib\\site-packages (from gtts) (2.32.3)\n",
      "Requirement already satisfied: click<8.2,>=7.1 in c:\\users\\admin\\anaconda3\\lib\\site-packages (from gtts) (8.1.7)\n",
      "Requirement already satisfied: colorama in c:\\users\\admin\\anaconda3\\lib\\site-packages (from click<8.2,>=7.1->gtts) (0.4.6)\n",
      "Requirement already satisfied: charset-normalizer<4,>=2 in c:\\users\\admin\\anaconda3\\lib\\site-packages (from requests<3,>=2.27->gtts) (3.3.2)\n",
      "Requirement already satisfied: idna<4,>=2.5 in c:\\users\\admin\\anaconda3\\lib\\site-packages (from requests<3,>=2.27->gtts) (3.7)\n",
      "Requirement already satisfied: urllib3<3,>=1.21.1 in c:\\users\\admin\\anaconda3\\lib\\site-packages (from requests<3,>=2.27->gtts) (2.2.3)\n",
      "Requirement already satisfied: certifi>=2017.4.17 in c:\\users\\admin\\anaconda3\\lib\\site-packages (from requests<3,>=2.27->gtts) (2025.1.31)\n",
      "Requirement already satisfied: pygame in c:\\users\\admin\\anaconda3\\lib\\site-packages (2.6.1)\n"
     ]
    }
   ],
   "source": [
    "!pip install googletrans\n",
    "!pip install gtts\n",
    "!pip install pygame"
   ]
  },
  {
   "cell_type": "code",
   "execution_count": null,
   "id": "d0bdc6cb-e0a3-44e9-a29a-63bc68319700",
   "metadata": {},
   "outputs": [
    {
     "name": "stdout",
     "output_type": "stream",
     "text": [
      "=======간단한 번역기=======\n"
     ]
    },
    {
     "name": "stdin",
     "output_type": "stream",
     "text": [
      "언어를 선택(영어,일어): 영어\n",
      "번역내용입력 안녕하세요\n"
     ]
    },
    {
     "name": "stdout",
     "output_type": "stream",
     "text": [
      "C:\\Users\\Admin\\AppData\\Local\\Temp\\tmpm_zhsghq.mp3\n",
      "번역결과 : hello\n"
     ]
    },
    {
     "name": "stdin",
     "output_type": "stream",
     "text": [
      "언어를 선택(영어,일어): 영어\n",
      "번역내용입력 만나요\n"
     ]
    },
    {
     "name": "stdout",
     "output_type": "stream",
     "text": [
      "C:\\Users\\Admin\\AppData\\Local\\Temp\\tmpv0v3wn7i.mp3\n",
      "번역결과 : see you\n"
     ]
    }
   ],
   "source": [
    "from deep_translator import GoogleTranslator\n",
    "from gtts import gTTS\n",
    "import pygame\n",
    "import os\n",
    "import tempfile\n",
    "\n",
    "def sample():\n",
    "    print(\"=======간단한 번역기=======\")\n",
    "    pygame.mixer.init()\n",
    "    \n",
    "    while True:\n",
    "\n",
    "        lang = input(\"언어를 선택(영어,일어,종료) : \")\n",
    "        if lang == \"종료\":\n",
    "            print(\"번역기 종료\")\n",
    "            break\n",
    "        elif lang == \"영어\":\n",
    "            lang = 'en'\n",
    "        elif lang == \"일어\":\n",
    "            lang = 'ja'\n",
    "        else:\n",
    "            prit(\"잘못입력\")\n",
    "            continue\n",
    "            \n",
    "        \n",
    "\n",
    "        test = input(\"번역할 문장입력 : \")\n",
    "        \n",
    "        translated= GoogleTranslator(source='auto',target=lang).translate(test)\n",
    "        # with open(\"파일명\",\"모드\") as 변수:\n",
    "        #     변수.write(\"내용\")\n",
    "\n",
    "        \n",
    "        with tempfile.NamedTemporaryFile(delete=False, suffix=\".mp3\") as fp:\n",
    "            tts = gTTS(translated,lang=lang)\n",
    "            tts.save(fp.name)\n",
    "            voice_path = fp.name\n",
    "            print(voice_path)\n",
    "\n",
    "\n",
    "        pygame.mixer.music.load(voice_path)\n",
    "        pygame.mixer.music.play()\n",
    "        \n",
    "        print(f'번역결과 : {translated}')\n",
    "\n",
    "sample()"
   ]
  },
  {
   "cell_type": "code",
   "execution_count": null,
   "id": "6561dec8-8527-4205-8b3c-b0e7b1b3080a",
   "metadata": {},
   "outputs": [],
   "source": []
  },
  {
   "cell_type": "code",
   "execution_count": null,
   "id": "960713b0-de67-477d-a0b9-6c9a5d25f06c",
   "metadata": {},
   "outputs": [],
   "source": []
  },
  {
   "cell_type": "code",
   "execution_count": null,
   "id": "fe70fb45-0962-4071-b997-33666665ff9e",
   "metadata": {},
   "outputs": [],
   "source": []
  }
 ],
 "metadata": {
  "kernelspec": {
   "display_name": "Python [conda env:base] *",
   "language": "python",
   "name": "conda-base-py"
  },
  "language_info": {
   "codemirror_mode": {
    "name": "ipython",
    "version": 3
   },
   "file_extension": ".py",
   "mimetype": "text/x-python",
   "name": "python",
   "nbconvert_exporter": "python",
   "pygments_lexer": "ipython3",
   "version": "3.12.7"
  }
 },
 "nbformat": 4,
 "nbformat_minor": 5
}
