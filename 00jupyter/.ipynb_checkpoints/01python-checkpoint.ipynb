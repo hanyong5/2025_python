{
 "cells": [
  {
   "cell_type": "code",
   "execution_count": 7,
   "id": "01f17585-67f0-4d1c-ab56-cf0b22c2203f",
   "metadata": {},
   "outputs": [
    {
     "name": "stdout",
     "output_type": "stream",
     "text": [
      "hello python\n"
     ]
    }
   ],
   "source": [
    "print(\"hello python\")"
   ]
  },
  {
   "cell_type": "markdown",
   "id": "39cbd5f0-e05b-4557-8f37-8a5139a50e73",
   "metadata": {},
   "source": [
    "### 오늘은 변수의 날"
   ]
  },
  {
   "cell_type": "code",
   "execution_count": 19,
   "id": "3027b05b-22e0-40e9-8621-1b24b2af76f5",
   "metadata": {},
   "outputs": [
    {
     "name": "stdout",
     "output_type": "stream",
     "text": [
      "나이는 20 입니다\n",
      "안녕하세요\n"
     ]
    }
   ],
   "source": [
    "age = 20\n",
    "print(f'나이는 {age} 입니다')\n",
    "print(\"안녕하세요\")"
   ]
  },
  {
   "cell_type": "code",
   "execution_count": 29,
   "id": "614350ef-9b0f-40cc-9c95-ed517fa4c05e",
   "metadata": {},
   "outputs": [
    {
     "name": "stdout",
     "output_type": "stream",
     "text": [
      "21\n"
     ]
    }
   ],
   "source": [
    "a,b,c = 10,11,12\n",
    "a += b\n",
    "print(a)"
   ]
  },
  {
   "cell_type": "code",
   "execution_count": 37,
   "id": "8759a3d8-caa7-4957-a4bd-cc6d3e5a7a28",
   "metadata": {},
   "outputs": [
    {
     "name": "stdout",
     "output_type": "stream",
     "text": [
      "10\n",
      "10.1\n",
      "1\n"
     ]
    }
   ],
   "source": [
    "x=101\n",
    "y=10\n",
    "print(x//y)\n",
    "print(x/y)\n",
    "print(x%y)"
   ]
  },
  {
   "cell_type": "code",
   "execution_count": 49,
   "id": "e1bdc740-921e-4cb9-b8b6-bf4f6d67de53",
   "metadata": {},
   "outputs": [
    {
     "name": "stdout",
     "output_type": "stream",
     "text": [
      "<class 'int'>\n",
      "<class 'str'>\n",
      "<class 'float'>\n",
      "<class 'bool'>\n"
     ]
    }
   ],
   "source": [
    "print(type(a))\n",
    "print(type('test'))\n",
    "print(type(0.3))\n",
    "print(type(True))"
   ]
  },
  {
   "cell_type": "code",
   "execution_count": 59,
   "id": "e2bbd198-1cf3-4e76-8c0a-eef639ee865f",
   "metadata": {},
   "outputs": [
    {
     "name": "stdin",
     "output_type": "stream",
     "text": [
      "정수: 100\n",
      "정수: 10\n"
     ]
    },
    {
     "name": "stdout",
     "output_type": "stream",
     "text": [
      "90\n"
     ]
    }
   ],
   "source": [
    "a = int(input('정수:'))\n",
    "b = int(input('정수:'))\n",
    "print(a-b)"
   ]
  },
  {
   "cell_type": "code",
   "execution_count": 61,
   "id": "4127992e-0880-45e0-9d49-c7ea8fed0304",
   "metadata": {},
   "outputs": [
    {
     "name": "stdin",
     "output_type": "stream",
     "text": [
      "분입력: 10\n"
     ]
    },
    {
     "name": "stdout",
     "output_type": "stream",
     "text": [
      "600.0초 입니다.\n"
     ]
    }
   ],
   "source": [
    "minute = float(input(\"분입력:\"))\n",
    "second = minute*60\n",
    "print(f'{second}초 입니다.')"
   ]
  },
  {
   "cell_type": "code",
   "execution_count": 63,
   "id": "bbef550b-bd15-4664-8838-1bb9ed2e88a5",
   "metadata": {},
   "outputs": [
    {
     "data": {
      "image/png": "[encoded data removed]",
      "text/plain": [
       "<Figure size 640x480 with 1 Axes>"
      ]
     },
     "metadata": {},
     "output_type": "display_data"
    }
   ],
   "source": [
    "import matplotlib.pyplot as plt\n",
    "x = [1,2,3,4]\n",
    "y = [10,20,10,20]\n",
    "\n",
    "plt.plot(x,y)\n",
    "plt.show()\n"
   ]
  },
  {
   "cell_type": "markdown",
   "id": "2be96902-5e0b-4f7d-878b-6e48928b58b6",
   "metadata": {},
   "source": [
    "### 비교연산자"
   ]
  },
  {
   "cell_type": "code",
   "execution_count": 22,
   "id": "2c83b1c1-14ef-49b7-a576-328bc9e6ae34",
   "metadata": {},
   "outputs": [
    {
     "name": "stdout",
     "output_type": "stream",
     "text": [
      "10 == 20 : False\n",
      "10 == 20 / False\n"
     ]
    }
   ],
   "source": [
    "a = 10\n",
    "b = 20\n",
    "c = 20\n",
    "print(a,\"==\",b,\":\",a==b)\n",
    "print(f'{a} == {b} / {a==b}')"
   ]
  },
  {
   "cell_type": "code",
   "execution_count": 40,
   "id": "40ba9a35-728e-409f-8e77-7b93ba2c6137",
   "metadata": {},
   "outputs": [
    {
     "name": "stdout",
     "output_type": "stream",
     "text": [
      "3\n"
     ]
    },
    {
     "name": "stdin",
     "output_type": "stream",
     "text": [
      "숫자를 맞혀보세요(1~5) 3\n"
     ]
    },
    {
     "name": "stdout",
     "output_type": "stream",
     "text": [
      "True 선택한 수는 3이고 답은 3 입니다.\n"
     ]
    }
   ],
   "source": [
    "import random\n",
    "a = random.randint(1,5)\n",
    "print(a)\n",
    "answer = int(input('숫자를 맞혀보세요(1~5)'))\n",
    "print(f'{a==answer} 선택한 수는 {answer}이고 답은 {a} 입니다.')"
   ]
  },
  {
   "cell_type": "code",
   "execution_count": 74,
   "id": "231c4d93-9c26-483c-8ef6-dc7f1b15f071",
   "metadata": {},
   "outputs": [
    {
     "name": "stdout",
     "output_type": "stream",
     "text": [
      "제주\n"
     ]
    }
   ],
   "source": [
    "import random\n",
    "texts = [\"서울\",\"부산\",\"대구\",\"대전\",\"제주\",\"강원\"]\n",
    "\n",
    "# a=random.randint(1,5)\n",
    "# print(texts[a])\n",
    "# texts.length\n",
    "# len(texts)\n",
    "\n",
    "# b = random.choice(texts)\n",
    "# print(b)\n",
    "\n",
    "a = random.randint(0,len(texts)-1)\n",
    "print(texts[a])\n",
    "\n"
   ]
  },
  {
   "cell_type": "markdown",
   "id": "a62c97d6-2486-46b7-9d45-0978d2732977",
   "metadata": {},
   "source": [
    "### 선택구조"
   ]
  },
  {
   "cell_type": "code",
   "execution_count": 295,
   "id": "530cb1e8-7422-4a82-b3ca-23e4f10b0206",
   "metadata": {},
   "outputs": [
    {
     "name": "stdout",
     "output_type": "stream",
     "text": [
      "18 32 77\n"
     ]
    }
   ],
   "source": [
    "#무작위로 생성한 두정수를 큰수,작은순으로 나열\n",
    "\n",
    "\n",
    "import random\n",
    "a = random.randint(1,100)\n",
    "b = random.randint(1,100)\n",
    "c = random.randint(1,100)\n",
    "\n",
    "# if a<b:\n",
    "#     a,b = b,a\n",
    "# if a<c:\n",
    "#     a,c = c,a\n",
    "# if b<c:\n",
    "#     b,c = c,b\n",
    "        \n",
    "a,b,c = sorted([a,b,c],reverse=True)\n",
    "\n",
    "print(a,b,c)\n",
    "    "
   ]
  },
  {
   "cell_type": "code",
   "execution_count": 305,
   "id": "fdc96090-8025-41eb-848d-1c97242298f8",
   "metadata": {},
   "outputs": [
    {
     "name": "stdout",
     "output_type": "stream",
     "text": [
      "[100, 10, 2, 1]\n"
     ]
    }
   ],
   "source": [
    "z = [1,2,100,10]\n",
    "z.sort(reverse=True)\n",
    "# b =sorted(z)\n",
    "\n",
    "print(z)"
   ]
  },
  {
   "cell_type": "code",
   "execution_count": 351,
   "id": "da976946-a65d-4dcf-9ee4-cb7a692b2dae",
   "metadata": {},
   "outputs": [
    {
     "name": "stdout",
     "output_type": "stream",
     "text": [
      "[1, 2, 3, 4, 5, 6, 7, 8, 9, 10, 11, 12, 13, 14, 15, 16, 17, 18, 19, 20, 21, 22, 23, 24, 25, 26, 27, 28, 29, 30, 31, 32, 33, 34, 35, 36, 37, 38, 39, 40, 41, 42, 43, 44, 45]\n",
      "[8, 13, 20, 21, 22, 37]\n"
     ]
    }
   ],
   "source": [
    "import random\n",
    "\n",
    "# const numbers = []\n",
    "# for(var i=1;i<100;i++){\n",
    "#     numbers.push(i)\n",
    "# }\n",
    "# document.write(numbers)\n",
    "\n",
    "numbers = list(range(1,46))\n",
    "# numbers = range(1,100)\n",
    "\n",
    "lotto = random.sample(numbers,6)\n",
    "lotto.sort()\n",
    "\n",
    "# print(type(numbers))\n",
    "print(numbers)\n",
    "print(lotto)\n"
   ]
  },
  {
   "cell_type": "code",
   "execution_count": null,
   "id": "aeecfc75-86d1-4f3d-82fb-51f6aa6cf489",
   "metadata": {},
   "outputs": [],
   "source": []
  },
  {
   "cell_type": "code",
   "execution_count": null,
   "id": "f92ae3ca-7bc6-4ece-b0dd-438718bcd87b",
   "metadata": {},
   "outputs": [],
   "source": []
  },
  {
   "cell_type": "code",
   "execution_count": null,
   "id": "4ffea28b-732c-4945-8678-9fd0c162868c",
   "metadata": {},
   "outputs": [],
   "source": []
  },
  {
   "cell_type": "code",
   "execution_count": null,
   "id": "d68702c3-7815-47c9-812b-9d5189ead28c",
   "metadata": {},
   "outputs": [],
   "source": []
  },
  {
   "cell_type": "code",
   "execution_count": null,
   "id": "311ca4b5-fb82-4018-819c-cdeacbaa3647",
   "metadata": {},
   "outputs": [],
   "source": []
  },
  {
   "cell_type": "code",
   "execution_count": null,
   "id": "6d9126e8-3358-47a1-bb55-b318e3be7674",
   "metadata": {},
   "outputs": [],
   "source": []
  },
  {
   "cell_type": "code",
   "execution_count": null,
   "id": "cac64c39-e887-4630-ba77-3a3674619460",
   "metadata": {},
   "outputs": [],
   "source": []
  },
  {
   "cell_type": "code",
   "execution_count": null,
   "id": "ecd02260-4739-401b-8ece-c0dfd8f967c6",
   "metadata": {},
   "outputs": [],
   "source": []
  }
 ],
 "metadata": {
  "kernelspec": {
   "display_name": "Python [conda env:base] *",
   "language": "python",
   "name": "conda-base-py"
  },
  "language_info": {
   "codemirror_mode": {
    "name": "ipython",
    "version": 3
   },
   "file_extension": ".py",
   "mimetype": "text/x-python",
   "name": "python",
   "nbconvert_exporter": "python",
   "pygments_lexer": "ipython3",
   "version": "3.12.7"
  }
 },
 "nbformat": 4,
 "nbformat_minor": 5
}
