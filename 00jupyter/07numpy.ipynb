{
 "cells": [
  {
   "cell_type": "code",
   "execution_count": 7,
   "id": "f1bb7ab1-bb34-4d7b-979d-ab9737aae3b2",
   "metadata": {},
   "outputs": [
    {
     "name": "stdout",
     "output_type": "stream",
     "text": [
      "<class 'list'>\n",
      "<class 'numpy.ndarray'>\n",
      "[1 2 3 4 5]\n"
     ]
    }
   ],
   "source": [
    "import numpy as np\n",
    "data = [1,2,3,4,5]\n",
    "\n",
    "print(type(data))\n",
    "arr = np.array(data)\n",
    "print(type(arr))\n",
    "print(arr)"
   ]
  },
  {
   "cell_type": "code",
   "execution_count": 23,
   "id": "0d5eb6b8-ecb5-4d4a-a3b7-d2b23b9a749a",
   "metadata": {},
   "outputs": [
    {
     "name": "stdout",
     "output_type": "stream",
     "text": [
      "1\n",
      "['2' '3' '4']\n",
      "['1' '2' '3']\n",
      "['3' '4' '5']\n"
     ]
    }
   ],
   "source": [
    "import numpy as np\n",
    "\n",
    "arr = np.array([1,2,3,4,5])\n",
    "print(arr[-1])\n",
    "print(arr[1:4])\n",
    "print(arr[:3])\n",
    "print(arr[2:])\n",
    "\n",
    "\n"
   ]
  },
  {
   "cell_type": "code",
   "execution_count": 63,
   "id": "4f1dff33-692c-4863-b0c8-27a964a31628",
   "metadata": {},
   "outputs": [
    {
     "name": "stdout",
     "output_type": "stream",
     "text": [
      "[0 1 2 3 4 5 6 7]\n",
      "[0 0 0 0 0 0 0 0 0 0]\n",
      "[0 0 0 0 0 0 0 0 0 0]\n",
      "[1. 1. 1. 1. 1. 1. 1. 1. 1. 1.]\n",
      "['test' 'test' 'test' 'test' 'test' 'test' 'test' 'test' 'test' 'test']\n",
      "['test1' 'test2' 'test3' 'test4' 'test5' 'test6' 'test7' 'test8' 'test9'\n",
      " 'test10']\n",
      "[ 1  5 10]\n",
      "[ 1.          1.47368421  1.94736842  2.42105263  2.89473684  3.36842105\n",
      "  3.84210526  4.31578947  4.78947368  5.26315789  5.73684211  6.21052632\n",
      "  6.68421053  7.15789474  7.63157895  8.10526316  8.57894737  9.05263158\n",
      "  9.52631579 10.        ]\n"
     ]
    }
   ],
   "source": [
    "import numpy as np\n",
    "arr1 = np.arange(0,8)\n",
    "print(arr1)\n",
    "\n",
    "arr2 = np.zeros(10).astype(int)\n",
    "arr3 = np.zeros(10,dtype=int)\n",
    "print(arr2)\n",
    "print(arr3)\n",
    "\n",
    "arr4 = np.ones(10)\n",
    "print(arr4)\n",
    "\n",
    "arr5 = np.full(10,\"test\")\n",
    "print(arr5)\n",
    "\n",
    "arr6 = np.array([f'test{a}' for a in range(1,11)])\n",
    "print(arr6)\n",
    "\n",
    "arr7 = np.linspace(1,10,3,dtype=int)\n",
    "arr8 = np.linspace(1,10,20)\n",
    "print(arr7)\n",
    "print(arr8)\n"
   ]
  },
  {
   "cell_type": "code",
   "execution_count": 69,
   "id": "c1a810db-aa02-449e-86e0-c5ea5582c3ad",
   "metadata": {},
   "outputs": [
    {
     "name": "stdout",
     "output_type": "stream",
     "text": [
      "[[ 2  4  6]\n",
      " [ 8 10 12]]\n"
     ]
    }
   ],
   "source": [
    "import numpy as np\n",
    "\n",
    "arr = np.array([[1,2,3],[4,5,6]])\n",
    "arr1 = np.array([[1,2,3],[4,5,6]])\n",
    "print(arr+arr1)\n",
    "\n"
   ]
  },
  {
   "cell_type": "code",
   "execution_count": 91,
   "id": "bb7a6740-27ef-4334-8b3a-ab7b911fea47",
   "metadata": {},
   "outputs": [
    {
     "name": "stdout",
     "output_type": "stream",
     "text": [
      "[[1 2 3]\n",
      " [4 5 6]]\n",
      "[10 11 12]\n",
      "1\n",
      "4\n",
      "4\n",
      "6\n",
      "[[4 5 6]]\n",
      "(2, 3)\n",
      "(3,)\n"
     ]
    }
   ],
   "source": [
    "import numpy as np\n",
    "\n",
    "arr = np.array([[1,2,3],[4,5,6]])\n",
    "arr1 = np.array([10,11,12])\n",
    "print(arr)\n",
    "print(arr1)\n",
    "\n",
    "print(arr[0,0])\n",
    "print(arr[1,0])\n",
    "print(arr[1,0])\n",
    "print(arr[1,2])\n",
    "print(arr[1:,:])\n",
    "\n",
    "print(arr.shape)\n",
    "print(arr1.shape)\n"
   ]
  },
  {
   "cell_type": "code",
   "execution_count": 127,
   "id": "55d9e31d-cc09-4778-9b99-9d5516837dad",
   "metadata": {},
   "outputs": [
    {
     "name": "stdout",
     "output_type": "stream",
     "text": [
      "[[ 1  2  3  4]\n",
      " [ 4  6  7  8]\n",
      " [ 9 10 11 12]]\n",
      "(3, 4)\n",
      "['1' '2' '3' '4' '4' '6' '7' '8' '9' '10' '11' '12']\n",
      "[[ 1  2]\n",
      " [ 3  4]\n",
      " [ 4  6]\n",
      " [ 7  8]\n",
      " [ 9 10]\n",
      " [11 12]]\n"
     ]
    }
   ],
   "source": [
    "import numpy as np\n",
    "arr = np.array([[1,2,3,4],[4,6,7,8],[9,10,11,12]])\n",
    "arr1 = arr.reshape(12).astype(str)\n",
    "arr2 = arr.reshape(6,2).astype(int)\n",
    "print(arr)\n",
    "print(arr.shape)\n",
    "print(arr1)\n",
    "print(arr2)\n",
    "\n",
    "\n"
   ]
  },
  {
   "cell_type": "code",
   "execution_count": 129,
   "id": "52bdc496-eab0-4479-a4a7-510862b8b7cc",
   "metadata": {},
   "outputs": [
    {
     "name": "stdout",
     "output_type": "stream",
     "text": [
      "[4, 6, 8]\n"
     ]
    }
   ],
   "source": [
    "list = [2,3,4]\n",
    "result = []\n",
    "\n",
    "for i in range(len(list)):\n",
    "    result.append(list[i]*2)\n",
    "print(result)\n"
   ]
  },
  {
   "cell_type": "code",
   "execution_count": 137,
   "id": "e2768749-2470-4b2a-a53a-3e0e6ea0b314",
   "metadata": {},
   "outputs": [
    {
     "name": "stdout",
     "output_type": "stream",
     "text": [
      "[4 6 8]\n",
      "[ 4  9 16]\n"
     ]
    }
   ],
   "source": [
    "import numpy as np\n",
    "list1= [2,3,4]\n",
    "list2= [2,3,4]\n",
    "\n",
    "arr = np.array(list1)\n",
    "arr1 = np.array(list2)\n",
    "result = arr *2\n",
    "print(result)\n",
    "\n",
    "print(arr*arr1)\n",
    "\n",
    "\n"
   ]
  },
  {
   "cell_type": "code",
   "execution_count": 133,
   "id": "f320d7be-1cf2-4c8c-9384-53d14c16a12b",
   "metadata": {},
   "outputs": [
    {
     "name": "stdout",
     "output_type": "stream",
     "text": [
      "[4, 6, 8]\n"
     ]
    }
   ],
   "source": [
    "list = [2,3,4]\n",
    "result = [a*2 for a in list]\n",
    "print(result)"
   ]
  },
  {
   "cell_type": "code",
   "execution_count": 161,
   "id": "3e259e42-9627-4048-8a1d-591730f8930f",
   "metadata": {},
   "outputs": [
    {
     "data": {
      "image/png": "[encoded data removed]",
      "text/plain": [
       "<Figure size 500x300 with 1 Axes>"
      ]
     },
     "metadata": {},
     "output_type": "display_data"
    }
   ],
   "source": [
    "import numpy as np\n",
    "import matplotlib.pyplot as plt\n",
    "\n",
    "x = np.linspace(-1,1,100)\n",
    "y = x**2 \n",
    "\n",
    "plt.figure(figsize=(5,3))\n",
    "plt.plot(x,y,label='y=x^2')\n",
    "plt.legend()\n",
    "plt.show()"
   ]
  },
  {
   "cell_type": "code",
   "execution_count": 17,
   "id": "416d3c65-ccc5-42fe-95b3-c4044ee0688a",
   "metadata": {},
   "outputs": [
    {
     "name": "stdout",
     "output_type": "stream",
     "text": [
      "(3,)\n",
      "(2, 4)\n",
      "[[11 22 33 54]\n",
      " [14 25 36 57]]\n"
     ]
    }
   ],
   "source": [
    "import numpy as np\n",
    "a1 = np.array([1,2,3]) # x\n",
    "a = np.array([[1,2,3,4],\n",
    "              [4,5,6,7]]) # y,x\n",
    "\n",
    "b = np.array([10,20,30,50])\n",
    "\n",
    "print(a1.shape) # 차원을 나타냄\n",
    "print(a.shape)\n",
    "print(np.add(a,b))"
   ]
  },
  {
   "cell_type": "code",
   "execution_count": 53,
   "id": "af0b0d99-8db9-47d2-be3a-8f3d56c560b5",
   "metadata": {},
   "outputs": [
    {
     "name": "stdout",
     "output_type": "stream",
     "text": [
      "[[1 2 3 4]\n",
      " [5 6 7 8]]\n",
      "(2, 4)\n",
      "2\n",
      "int32\n",
      "8\n"
     ]
    }
   ],
   "source": [
    "arr1 = np.array([[1,2,3,4],[5,6,7,8]])\n",
    "arr2 = np.zeros(10)\n",
    "arr3 = np.zeros((2,3))\n",
    "\n",
    "arr3 = np.ones((3,3))\n",
    "arr3 = np.full((3,3),7)\n",
    "arr3 = np.linspace(1,10,5)\n",
    "\n",
    "print(arr1)\n",
    "print(arr1.shape)\n",
    "print(arr1.ndim)\n",
    "print(arr1.dtype)\n",
    "print(arr1.size)\n",
    "\n",
    "\n",
    "\n"
   ]
  },
  {
   "cell_type": "code",
   "execution_count": 63,
   "id": "000aa1a1-c7c1-4ae1-abe2-ea0a4960465e",
   "metadata": {},
   "outputs": [
    {
     "name": "stdout",
     "output_type": "stream",
     "text": [
      "float64 [1.  2.1 3.1 4. ]\n",
      "int32 [1 2 3 4]\n"
     ]
    }
   ],
   "source": [
    "arr = np.array([1,2.1,3.1,4])\n",
    "print(arr.dtype,arr)\n",
    "int_arr = arr.astype(int)\n",
    "print(int_arr.dtype,int_arr)\n"
   ]
  },
  {
   "cell_type": "code",
   "execution_count": 69,
   "id": "84a788ca-8794-4e82-983f-fc9cb4577348",
   "metadata": {},
   "outputs": [
    {
     "name": "stdout",
     "output_type": "stream",
     "text": [
      "평균 4.5\n",
      "행평균 [3. 4. 5. 6.]\n"
     ]
    }
   ],
   "source": [
    "arr = np.array([[1,2,3,4],\n",
    "                [5,6,7,8]])\n",
    "\n",
    "print(\"평균\",arr.mean())\n",
    "print(\"행평균\",arr.mean(axis=0))\n"
   ]
  },
  {
   "cell_type": "code",
   "execution_count": 153,
   "id": "05e269c8-d016-49cd-a7dc-3678be37902d",
   "metadata": {},
   "outputs": [
    {
     "data": {
      "image/png": "[encoded data removed]",
      "text/plain": [
       "<Figure size 640x480 with 1 Axes>"
      ]
     },
     "metadata": {},
     "output_type": "display_data"
    }
   ],
   "source": [
    "import numpy as np\n",
    "import matplotlib.pyplot as plt\n",
    "num_cases = [11, 2920, 6636, 750, 615, 1141, 1044, 5473, 3707, 2444, 7324, 26198]\n",
    "months = np.arange(1,13)\n",
    "cum_case = np.cumsum(num_cases)\n",
    "\n",
    "# plt.plot(months, num_cases,c='r',label='number of case')\n",
    "# plt.plot(months,cum_case,c='b',label=\"acc numeber of case\")\n",
    "# plt.legend()\n",
    "\n",
    "w = 0.4\n",
    "\n",
    "# plt.bar(months-w/2,cum_case,width=w)\n",
    "# plt.bar(months+w/2,num_cases,width=w)\n",
    "# plt.plot(months,cum_case,c='r',marker='o')\n",
    "plt.bar(months,cum_case,width=w)\n",
    "plt.bar(months,num_cases,width=w)\n",
    "\n",
    "plt.show()"
   ]
  },
  {
   "cell_type": "code",
   "execution_count": null,
   "id": "34720f48-c159-4746-9d53-805c53f09048",
   "metadata": {},
   "outputs": [],
   "source": []
  }
 ],
 "metadata": {
  "kernelspec": {
   "display_name": "Python [conda env:base] *",
   "language": "python",
   "name": "conda-base-py"
  },
  "language_info": {
   "codemirror_mode": {
    "name": "ipython",
    "version": 3
   },
   "file_extension": ".py",
   "mimetype": "text/x-python",
   "name": "python",
   "nbconvert_exporter": "python",
   "pygments_lexer": "ipython3",
   "version": "3.12.7"
  }
 },
 "nbformat": 4,
 "nbformat_minor": 5
}
